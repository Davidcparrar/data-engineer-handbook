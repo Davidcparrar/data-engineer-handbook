{
 "cells": [
  {
   "cell_type": "code",
   "execution_count": 120,
   "id": "f1685540-13e1-446a-b0bf-6a644e0caeca",
   "metadata": {},
   "outputs": [],
   "source": [
    "from pyspark.sql import SparkSession\n",
    "from pyspark.sql.functions import expr, col, broadcast, when, isnan, count, sum as sparksum, desc, max as sparkmax\n",
    "\n",
    "\n",
    "ROOT = \"/home/iceberg/data\"\n",
    "\n",
    "# Start spark session and add configuration\n",
    "spark = SparkSession.builder.appName(\"matches\").getOrCreate()\n",
    "spark.conf.set(\"spark.sql.autoBroadcastJoinThreshold\", \"-1\")\n",
    "\n",
    "# Read csv files\n",
    "match_details = spark.read.option(\"header\", \"true\").csv(f\"{ROOT}/match_details.csv\")\n",
    "matches = spark.read.option(\"header\", \"true\").csv(f\"{ROOT}/matches.csv\")\n",
    "medals_matches_players = spark.read.option(\"header\", \"true\").csv(f\"{ROOT}/medals_matches_players.csv\")\n",
    "medals = spark.read.option(\"header\", \"true\").csv(f\"{ROOT}/medals.csv\")\n",
    "maps = spark.read.option(\"header\", \"true\").csv(f\"{ROOT}/maps.csv\")\n",
    "\n",
    "medals = broadcast(medals)\n",
    "maps = broadcast(maps)"
   ]
  },
  {
   "cell_type": "code",
   "execution_count": 121,
   "id": "8fc12b06-e3c3-449b-802a-4e9cd2fb07d2",
   "metadata": {},
   "outputs": [
    {
     "data": {
      "text/plain": [
       "DataFrame[]"
      ]
     },
     "execution_count": 121,
     "metadata": {},
     "output_type": "execute_result"
    }
   ],
   "source": [
    "# DROP Queries\n",
    "\n",
    "drop_match_details_bucketed = \"DROP TABLE IF EXISTS bootcamp.match_details_bucketed\"\n",
    "drop_matches_bucketed = \"DROP TABLE IF EXISTS bootcamp.matches_bucketed\"\n",
    "drop_medal_matches_players_bucketed = \"DROP TABLE IF EXISTS bootcamp.medal_matches_players_bucketed\"\n",
    "\n",
    "spark.sql(drop_match_details_bucketed)\n",
    "spark.sql(drop_matches_bucketed)\n",
    "spark.sql(drop_medal_matches_players_bucketed)"
   ]
  },
  {
   "cell_type": "code",
   "execution_count": 122,
   "id": "576f440b-d970-424d-a9bd-75860e8d4937",
   "metadata": {},
   "outputs": [
    {
     "data": {
      "text/plain": [
       "DataFrame[]"
      ]
     },
     "execution_count": 122,
     "metadata": {},
     "output_type": "execute_result"
    }
   ],
   "source": [
    "# Create DDL Statements\n",
    "match_details_bucketed_ddl = \"\"\"\n",
    "CREATE TABLE IF NOT EXISTS bootcamp.match_details_bucketed (\n",
    "     match_id STRING,\n",
    "     player_gamertag STRING,\n",
    "     player_total_kills INTEGER\n",
    " )\n",
    " USING iceberg\n",
    " PARTITIONED BY (bucket(16, match_id));\n",
    " \"\"\"\n",
    "\n",
    "matches_bucketed_ddl = \"\"\"\n",
    "CREATE TABLE IF NOT EXISTS bootcamp.matches_bucketed (\n",
    "     match_id STRING,\n",
    "     map_id STRING,\n",
    "     playlist_id STRING\n",
    " )\n",
    " USING iceberg\n",
    " PARTITIONED BY (bucket(16, match_id));\n",
    " \"\"\"\n",
    "\n",
    "medal_matches_player_bucketed_ddl = \"\"\"\n",
    "CREATE TABLE IF NOT EXISTS bootcamp.medal_matches_players_bucketed (\n",
    "     match_id STRING,\n",
    "     player_game_tag STRING,\n",
    "     medal_id STRING,\n",
    "     count INTEGER\n",
    " )\n",
    " USING iceberg\n",
    " PARTITIONED BY (bucket(16, match_id));\n",
    " \"\"\"\n",
    "\n",
    "spark.sql(match_details_bucketed_ddl)\n",
    "spark.sql(matches_bucketed_ddl)\n",
    "spark.sql(medal_matches_player_bucketed_ddl)"
   ]
  },
  {
   "cell_type": "code",
   "execution_count": 123,
   "id": "e6444c69-a4cd-4d7b-9e78-1717f127216b",
   "metadata": {},
   "outputs": [],
   "source": [
    "# Save data to iceberg tables\n",
    "match_details \\\n",
    "    .select(\n",
    "        col('match_id'), \n",
    "        col('player_gamertag'), \n",
    "        col(\"player_total_kills\").cast(\"int\").alias(\"player_total_kills\")\n",
    "    ) \\\n",
    "    .sortWithinPartitions(col(\"match_id\"), col(\"player_gamertag\")) \\\n",
    "    .write.mode('overwrite') \\\n",
    "    .bucketBy(16, \"match_id\") \\\n",
    "    .saveAsTable(\"bootcamp.match_details_bucketed\")\n",
    "\n",
    "matches \\\n",
    "    .select(\n",
    "        col('match_id'), \n",
    "        col('mapid').alias(\"map_id\"), \n",
    "        col('playlist_id'),\n",
    "    ) \\\n",
    "    .sortWithinPartitions(col(\"match_id\"), col(\"map_id\")) \\\n",
    "    .write.mode('overwrite') \\\n",
    "    .bucketBy(16, \"match_id\") \\\n",
    "    .saveAsTable(\"bootcamp.matches_bucketed\")\n",
    "\n",
    "medals_matches_players \\\n",
    "    .select(\n",
    "        col('match_id'), \n",
    "        col('player_gamertag'), \n",
    "        col('medal_id'), \n",
    "        col('count'), \n",
    "    ) \\\n",
    "    .sortWithinPartitions(col(\"match_id\"), col(\"player_gamertag\"), col(\"medal_id\")) \\\n",
    "    .write.mode('overwrite') \\\n",
    "    .bucketBy(16, \"match_id\") \\\n",
    "    .saveAsTable(\"bootcamp.medal_matches_players_bucketed\")"
   ]
  },
  {
   "cell_type": "code",
   "execution_count": 129,
   "id": "f2729150-277f-4757-b1a0-bf9e6b28395e",
   "metadata": {},
   "outputs": [
    {
     "name": "stdout",
     "output_type": "stream",
     "text": [
      "+--------------------+--------------------+--------------------+---------------+------------------+----------+-----------+-------------+--------+\n",
      "|            match_id|              map_id|         playlist_id|player_gamertag|player_total_kills|  medal_id|medal_count|   medal_name|map_name|\n",
      "+--------------------+--------------------+--------------------+---------------+------------------+----------+-----------+-------------+--------+\n",
      "|00169217-cca6-4b4...|cc040aa1-f206-11e...|2323b76a-db98-4e0...|       DJ RAHHH|                13|2078758684|          1|  Double Kill|  Fathom|\n",
      "|00169217-cca6-4b4...|cc040aa1-f206-11e...|2323b76a-db98-4e0...|       DJ RAHHH|                13|2782465081|          1|     Reversal|  Fathom|\n",
      "|00169217-cca6-4b4...|cc040aa1-f206-11e...|2323b76a-db98-4e0...|       DJ RAHHH|                13|3261908037|         12|     Headshot|  Fathom|\n",
      "|00169217-cca6-4b4...|cc040aa1-f206-11e...|2323b76a-db98-4e0...|       DJ RAHHH|                13|3270120991|          1|    Beat Down|  Fathom|\n",
      "|00169217-cca6-4b4...|cc040aa1-f206-11e...|2323b76a-db98-4e0...|       DJ RAHHH|                13| 824733727|          1|  Distraction|  Fathom|\n",
      "|00169217-cca6-4b4...|cc040aa1-f206-11e...|2323b76a-db98-4e0...|       DJ RAHHH|                13|2287626681|          1|   Melee Kill|  Fathom|\n",
      "|00169217-cca6-4b4...|cc040aa1-f206-11e...|2323b76a-db98-4e0...|       DJ RAHHH|                13| 250435527|          1|      Brawler|  Fathom|\n",
      "|00169217-cca6-4b4...|cc040aa1-f206-11e...|2323b76a-db98-4e0...|       DJ RAHHH|                13|2782465081|          1|     Reversal|  Fathom|\n",
      "|00169217-cca6-4b4...|cc040aa1-f206-11e...|2323b76a-db98-4e0...|       DJ RAHHH|                13|3261908037|          6|     Headshot|  Fathom|\n",
      "|00169217-cca6-4b4...|cc040aa1-f206-11e...|2323b76a-db98-4e0...|       DJ RAHHH|                13|2078758684|          1|  Double Kill|  Fathom|\n",
      "|00169217-cca6-4b4...|cc040aa1-f206-11e...|2323b76a-db98-4e0...|       DJ RAHHH|                13|2287626681|          1|   Melee Kill|  Fathom|\n",
      "|00169217-cca6-4b4...|cc040aa1-f206-11e...|2323b76a-db98-4e0...|       DJ RAHHH|                13|2782465081|          2|     Reversal|  Fathom|\n",
      "|00169217-cca6-4b4...|cc040aa1-f206-11e...|2323b76a-db98-4e0...|       DJ RAHHH|                13|3261908037|         10|     Headshot|  Fathom|\n",
      "|00169217-cca6-4b4...|cc040aa1-f206-11e...|2323b76a-db98-4e0...|       DJ RAHHH|                13| 824733727|          1|  Distraction|  Fathom|\n",
      "|00169217-cca6-4b4...|cc040aa1-f206-11e...|2323b76a-db98-4e0...|       DJ RAHHH|                13|2078758684|          3|  Double Kill|  Fathom|\n",
      "|00169217-cca6-4b4...|cc040aa1-f206-11e...|2323b76a-db98-4e0...|       DJ RAHHH|                13|2287626681|          1|   Melee Kill|  Fathom|\n",
      "|00169217-cca6-4b4...|cc040aa1-f206-11e...|2323b76a-db98-4e0...|       DJ RAHHH|                13|2430242797|          1|Killing Spree|  Fathom|\n",
      "|00169217-cca6-4b4...|cc040aa1-f206-11e...|2323b76a-db98-4e0...|       DJ RAHHH|                13|2782465081|          2|     Reversal|  Fathom|\n",
      "|00169217-cca6-4b4...|cc040aa1-f206-11e...|2323b76a-db98-4e0...|       DJ RAHHH|                13|3001183151|          1| First Strike|  Fathom|\n",
      "|00169217-cca6-4b4...|cc040aa1-f206-11e...|2323b76a-db98-4e0...|       DJ RAHHH|                13|3261908037|         11|     Headshot|  Fathom|\n",
      "+--------------------+--------------------+--------------------+---------------+------------------+----------+-----------+-------------+--------+\n",
      "only showing top 20 rows\n",
      "\n"
     ]
    }
   ],
   "source": [
    "# Bucketed Join\n",
    "match_details_bucketed = spark.table(\"bootcamp.match_details_bucketed\")\n",
    "matches_bucketed = spark.table(\"bootcamp.matches_bucketed\")\n",
    "medal_matches_players_bucketed = spark.table(\"bootcamp.medal_matches_players_bucketed\")\n",
    "\n",
    "result_df = match_details_bucketed \\\n",
    "    .join(matches_bucketed, match_details_bucketed.match_id == matches_bucketed.match_id) \\\n",
    "    .join(medal_matches_players_bucketed, medal_matches_players_bucketed.match_id == matches_bucketed.match_id) \\\n",
    "    .join(medals, medal_matches_players_bucketed.medal_id == medals.medal_id) \\\n",
    "    .join(maps, maps.mapid == matches_bucketed.map_id) \\\n",
    "    .select(\n",
    "        matches_bucketed.match_id,\n",
    "        matches_bucketed.map_id,\n",
    "        matches_bucketed.playlist_id,\n",
    "        match_details_bucketed.player_gamertag,\n",
    "        match_details_bucketed.player_total_kills,\n",
    "        medal_matches_players_bucketed.medal_id,\n",
    "        medal_matches_players_bucketed[\"count\"].alias(\"medal_count\"),\n",
    "        medals.name.alias(\"medal_name\"),\n",
    "        maps.name.alias(\"map_name\")\n",
    "    )\n",
    "\n",
    "# Show the result\n",
    "result_df.show()\n"
   ]
  },
  {
   "cell_type": "code",
   "execution_count": 159,
   "id": "ed027a59-6fc1-48a3-9ffa-bd8f7973ba67",
   "metadata": {},
   "outputs": [
    {
     "name": "stdout",
     "output_type": "stream",
     "text": [
      "+---------------+-----------+\n",
      "|player_gamertag|total_kills|\n",
      "+---------------+-----------+\n",
      "|       EcZachly|    1503498|\n",
      "+---------------+-----------+\n",
      "\n",
      "+------------------------------------+-------+\n",
      "|playlist_id                         |count  |\n",
      "+------------------------------------+-------+\n",
      "|f72e0ef0-7c4a-4307-af78-8e38dac3fdba|1565529|\n",
      "+------------------------------------+-------+\n",
      "\n",
      "+------------------------------------+--------+-------+\n",
      "|map_id                              |map_name|count  |\n",
      "+------------------------------------+--------+-------+\n",
      "|c74c9d0f-f206-11e4-8330-24be05e24f7e|Alpine  |1445545|\n",
      "+------------------------------------+--------+-------+\n",
      "\n",
      "+------------------------------------+--------+--------------+-----+\n",
      "|map_id                              |map_name|medal_name    |count|\n",
      "+------------------------------------+--------+--------------+-----+\n",
      "|c74c9d0f-f206-11e4-8330-24be05e24f7e|Alpine  |Killing Frenzy|5872 |\n",
      "+------------------------------------+--------+--------------+-----+\n",
      "\n"
     ]
    }
   ],
   "source": [
    "# - Which player averages the most kills per game?\n",
    "\n",
    "a = result_df.groupBy(\"player_gamertag\") \\\n",
    "    .agg(\n",
    "        sparksum(col(\"player_total_kills\")).alias(\"total_kills\")\n",
    "    ) \\\n",
    "    .orderBy(desc(\"total_kills\")) \\\n",
    "    .limit(1) \\\n",
    "    .show()\n",
    "\n",
    "#+---------------+-----------+\n",
    "#|player_gamertag|total_kills|\n",
    "#+---------------+-----------+\n",
    "#|       EcZachly|    1503498|\n",
    "#+---------------+-----------+\n",
    "\n",
    "# - Which playlist gets played the most?\n",
    "result_df.groupBy(\"playlist_id\") \\\n",
    "    .count() \\\n",
    "    .orderBy(desc(\"count\")) \\\n",
    "    .limit(1) \\\n",
    "    .show(truncate=False)\n",
    "\n",
    "# +------------------------------------+-------+\n",
    "# |playlist_id                         |count  |\n",
    "# +------------------------------------+-------+\n",
    "# |f72e0ef0-7c4a-4307-af78-8e38dac3fdba|1565529|\n",
    "# +------------------------------------+-------+\n",
    "\n",
    "#     - Which map gets played the most?\n",
    "result_df.groupBy(\"map_id\", \"map_name\") \\\n",
    "    .count() \\\n",
    "    .orderBy(desc(\"count\")) \\\n",
    "    .limit(1) \\\n",
    "    .show(truncate=False)\n",
    "\n",
    "# +------------------------------------+--------+-------+\n",
    "# |map_id                              |map_name|count  |\n",
    "# +------------------------------------+--------+-------+\n",
    "# |c74c9d0f-f206-11e4-8330-24be05e24f7e|Alpine  |1445545|\n",
    "# +------------------------------------+--------+-------+\n",
    "\n",
    "#  - Which map do players get the most Killing Spree medals on?\n",
    "\n",
    "result_df.where(col(\"medal_name\") == \"Killing Frenzy\") \\\n",
    "    .groupBy(\"map_id\", \"map_name\", \"medal_name\") \\\n",
    "    .count() \\\n",
    "    .orderBy(desc(\"count\")) \\\n",
    "    .limit(1) \\\n",
    "    .show(truncate=False)\n",
    "\n",
    "# +------------------------------------+--------+--------------+-----+\n",
    "# |map_id                              |map_name|medal_name    |count|\n",
    "# +------------------------------------+--------+--------------+-----+\n",
    "# |c74c9d0f-f206-11e4-8330-24be05e24f7e|Alpine  |Killing Frenzy|5872 |\n",
    "# +------------------------------------+--------+--------------+-----+"
   ]
  },
  {
   "cell_type": "code",
   "execution_count": 154,
   "id": "01ba84fa-91e8-4264-8852-724bea63efcc",
   "metadata": {},
   "outputs": [
    {
     "name": "stdout",
     "output_type": "stream",
     "text": [
      "+--------------+\n",
      "|name          |\n",
      "+--------------+\n",
      "|Ball Kill     |\n",
      "|Flag Kill     |\n",
      "|Carrier Kill  |\n",
      "|Beam Kill     |\n",
      "|Kill          |\n",
      "|Soldier Kill  |\n",
      "|Killamanjaro  |\n",
      "|Starkiller    |\n",
      "|Caster Kill   |\n",
      "|Splaser Kill  |\n",
      "|Knight Kill   |\n",
      "|Marine Kill   |\n",
      "|Jackal Kill   |\n",
      "|Clutch Kill   |\n",
      "|Hydra Kill    |\n",
      "|Crawler Kill  |\n",
      "|Watcher Kill  |\n",
      "|Killtrocity   |\n",
      "|Killing Frenzy|\n",
      "|Melee Kill    |\n",
      "+--------------+\n",
      "only showing top 20 rows\n",
      "\n"
     ]
    },
    {
     "name": "stderr",
     "output_type": "stream",
     "text": [
      "25/01/27 19:01:57 WARN HintErrorLogger: A join hint (strategy=broadcast) is specified but it is not part of a join relation.\n"
     ]
    }
   ],
   "source": [
    "# medals.createTempView(\"medals\")\n",
    "spark.sql(\"SELECT DISTINCT name FROM medals WHERE name like '%ill%'\").show(20, False)\n"
   ]
  },
  {
   "cell_type": "code",
   "execution_count": 68,
   "id": "6b7fd093-1136-499a-89d3-2801d00e3aae",
   "metadata": {},
   "outputs": [
    {
     "data": {
      "text/html": [
       "<table>\n",
       "    <thead>\n",
       "        <tr>\n",
       "            <th>size</th>\n",
       "            <th>num_files</th>\n",
       "            <th>sorted</th>\n",
       "        </tr>\n",
       "    </thead>\n",
       "    <tbody>\n",
       "        <tr>\n",
       "            <td>521497</td>\n",
       "            <td>16</td>\n",
       "            <td>sorted</td>\n",
       "        </tr>\n",
       "    </tbody>\n",
       "</table>"
      ],
      "text/plain": [
       "+--------+-----------+--------+\n",
       "|   size | num_files | sorted |\n",
       "+--------+-----------+--------+\n",
       "| 521497 |        16 | sorted |\n",
       "+--------+-----------+--------+"
      ]
     },
     "execution_count": 68,
     "metadata": {},
     "output_type": "execute_result"
    }
   ],
   "source": [
    "%%sql\n",
    "SELECT SUM(file_size_in_bytes) as size, COUNT(1) as num_files, 'sorted' \n",
    "FROM demo.bootcamp.matches_bucketed.files"
   ]
  },
  {
   "cell_type": "code",
   "execution_count": 70,
   "id": "7f90c67a-a29d-436d-9c57-cedbea76a16c",
   "metadata": {},
   "outputs": [
    {
     "data": {
      "text/html": [
       "<table>\n",
       "    <thead>\n",
       "        <tr>\n",
       "            <th>size</th>\n",
       "            <th>num_files</th>\n",
       "            <th>sorted</th>\n",
       "        </tr>\n",
       "    </thead>\n",
       "    <tbody>\n",
       "        <tr>\n",
       "            <td>519192</td>\n",
       "            <td>16</td>\n",
       "            <td>sorted</td>\n",
       "        </tr>\n",
       "    </tbody>\n",
       "</table>"
      ],
      "text/plain": [
       "+--------+-----------+--------+\n",
       "|   size | num_files | sorted |\n",
       "+--------+-----------+--------+\n",
       "| 519192 |        16 | sorted |\n",
       "+--------+-----------+--------+"
      ]
     },
     "execution_count": 70,
     "metadata": {},
     "output_type": "execute_result"
    }
   ],
   "source": [
    "%%sql\n",
    "SELECT SUM(file_size_in_bytes) as size, COUNT(1) as num_files, 'sorted' \n",
    "FROM demo.bootcamp.matches_bucketed.files"
   ]
  },
  {
   "cell_type": "code",
   "execution_count": 71,
   "id": "a56a8d77-b607-4030-82e3-ddcb9629a20c",
   "metadata": {},
   "outputs": [
    {
     "data": {
      "text/html": [
       "<table>\n",
       "    <thead>\n",
       "        <tr>\n",
       "            <th>size</th>\n",
       "            <th>num_files</th>\n",
       "            <th>sorted</th>\n",
       "        </tr>\n",
       "    </thead>\n",
       "    <tbody>\n",
       "        <tr>\n",
       "            <td>1852087</td>\n",
       "            <td>16</td>\n",
       "            <td>sorted</td>\n",
       "        </tr>\n",
       "    </tbody>\n",
       "</table>"
      ],
      "text/plain": [
       "+---------+-----------+--------+\n",
       "|    size | num_files | sorted |\n",
       "+---------+-----------+--------+\n",
       "| 1852087 |        16 | sorted |\n",
       "+---------+-----------+--------+"
      ]
     },
     "execution_count": 71,
     "metadata": {},
     "output_type": "execute_result"
    }
   ],
   "source": [
    "%%sql\n",
    "SELECT SUM(file_size_in_bytes) as size, COUNT(1) as num_files, 'sorted' \n",
    "FROM demo.bootcamp.match_details_bucketed.files"
   ]
  },
  {
   "cell_type": "code",
   "execution_count": 73,
   "id": "daa642e4-16d7-4e8e-ab61-58ce80bc6ddd",
   "metadata": {},
   "outputs": [
    {
     "data": {
      "text/html": [
       "<table>\n",
       "    <thead>\n",
       "        <tr>\n",
       "            <th>size</th>\n",
       "            <th>num_files</th>\n",
       "            <th>sorted</th>\n",
       "        </tr>\n",
       "    </thead>\n",
       "    <tbody>\n",
       "        <tr>\n",
       "            <td>1850057</td>\n",
       "            <td>16</td>\n",
       "            <td>sorted</td>\n",
       "        </tr>\n",
       "    </tbody>\n",
       "</table>"
      ],
      "text/plain": [
       "+---------+-----------+--------+\n",
       "|    size | num_files | sorted |\n",
       "+---------+-----------+--------+\n",
       "| 1850057 |        16 | sorted |\n",
       "+---------+-----------+--------+"
      ]
     },
     "execution_count": 73,
     "metadata": {},
     "output_type": "execute_result"
    }
   ],
   "source": [
    "%%sql\n",
    "SELECT SUM(file_size_in_bytes) as size, COUNT(1) as num_files, 'sorted' \n",
    "FROM demo.bootcamp.match_details_bucketed.files"
   ]
  },
  {
   "cell_type": "code",
   "execution_count": null,
   "id": "37c7ea53-f2ea-44d7-a45b-ef4e4cf4447c",
   "metadata": {},
   "outputs": [],
   "source": []
  }
 ],
 "metadata": {
  "kernelspec": {
   "display_name": "Python 3 (ipykernel)",
   "language": "python",
   "name": "python3"
  },
  "language_info": {
   "codemirror_mode": {
    "name": "ipython",
    "version": 3
   },
   "file_extension": ".py",
   "mimetype": "text/x-python",
   "name": "python",
   "nbconvert_exporter": "python",
   "pygments_lexer": "ipython3",
   "version": "3.9.18"
  }
 },
 "nbformat": 4,
 "nbformat_minor": 5
}
